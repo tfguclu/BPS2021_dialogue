{
 "cells": [
  {
   "cell_type": "code",
   "execution_count": 1,
   "metadata": {},
   "outputs": [],
   "source": [
    "from prody import *\n",
    "import numpy as np\n",
    "from os.path import basename\n",
    "import fnmatch\n",
    "import os\n",
    "import networkx as nx\n",
    "from networkx.algorithms import community\n",
    "from itertools import chain, combinations"
   ]
  },
  {
   "cell_type": "markdown",
   "metadata": {},
   "source": [
    "# Community composition analysis (i) between segments and (ii) residue by residue. RGB coloring scheme for _$\\Omega$_ = 4"
   ]
  },
  {
   "cell_type": "markdown",
   "metadata": {},
   "source": [
    "### __Beware that your pdb and dcd should have the same name and you can write a string pattern for batch calculation__"
   ]
  },
  {
   "cell_type": "markdown",
   "metadata": {},
   "source": [
    "In the next cell, please write start, stop and stride of the dcd file that you want to analyze.\n",
    "Point out the maximum community size you want to write to output files"
   ]
  },
  {
   "cell_type": "code",
   "execution_count": 2,
   "metadata": {},
   "outputs": [],
   "source": [
    "starting_frame = 20 # write starting frame of your dcd\n",
    "stopping_frame = 120 # last frame of your dcd\n",
    "stride = 60 # stride of your dcd file\n",
    "max_community_size = 5 #maximum number of communities/omega"
   ]
  },
  {
   "cell_type": "markdown",
   "metadata": {},
   "source": [
    "Write the file string pattern or your pdb file. Please realize that, that file name also will be used for parsing related dcd file. Further, please select atoms you want to coarse-grain and analyze as nodes."
   ]
  },
  {
   "cell_type": "code",
   "execution_count": 3,
   "metadata": {},
   "outputs": [],
   "source": [
    "file_string_pattern = '*.pdb' #if you write *.pdb, it will go through all the pdb's in the \n",
    "                                        #working directory and use the dcd files with the same name\n",
    "atom_selection_string = \"(name CB and protein) or (name CA and resname GLY)\""
   ]
  },
  {
   "cell_type": "markdown",
   "metadata": {},
   "source": [
    "There are three different calculation scheme for dynamic community composition.\n",
    "\n",
    "**1) Community sharing segments over time.**\n",
    "This calculates the community sharing fraction between two pre-assigned structural segments based on their residue numbers. By using this calculation, the user can understand the underlying changes over the commumity composition through the MD trajectory, and the user can detect the number of community seperation that is needed to seperate two segments. This is important since some of the effects may cancel on average.\n",
    "\n",
    "**2) Average residue by residue community co-occupancy.**\n",
    "\n",
    "Here, for each $\\Omega$, the user can calculate the fraction of community sharing of each residue on time average. By using this information, the user can detect the group of residues that tend to be in the same community throught the MD trajectory.\n",
    "\n",
    "**3) Protein structure coloring by RGB scheme that calculated by community sharing of reference residues.**\n",
    "\n",
    "By deciding, three reference residues for red, green and blue, the user can calculate the fraction of community sharing belonging to other nodes based on the color code of reference nodes. This process may be done for certain $\\Omega$, and the default is $\\Omega$ = 4.\n",
    "\n",
    "Please assign, True or False, for each calculation to be done."
   ]
  },
  {
   "cell_type": "code",
   "execution_count": 4,
   "metadata": {},
   "outputs": [],
   "source": [
    "#Between the segments\n",
    "\n",
    "segment_calculation = True\n",
    "\n",
    "segment_1 = list(range(299, 311)) \n",
    "segment_2 = list(range(2, 10)) \n",
    "\n",
    "#Res by Res calculation \n",
    "res_by_res_calculation = True\n",
    "\n",
    "#RGS scheme coloring matrix\n",
    "rgb_scheme = True\n",
    "rgb_community = 4\n",
    "red = [316]\n",
    "green = [392]\n",
    "blue = [372]"
   ]
  },
  {
   "cell_type": "code",
   "execution_count": 5,
   "metadata": {},
   "outputs": [
    {
     "name": "stderr",
     "output_type": "stream",
     "text": [
      "@> 1902 atoms and 1 coordinate set(s) were parsed in 0.03s.\n",
      "@> DCD file contains 1199 coordinate sets for 1902 atoms.\n",
      "@> DCD file was parsed in 0.00 seconds.\n",
      "@> 26.13 MB parsed at input rate 26077.82 MB/s.\n",
      "@> 1199 coordinate sets parsed at input rate 1196804 frame/s.\n"
     ]
    },
    {
     "name": "stdout",
     "output_type": "stream",
     "text": [
      "Here is the residue index of the nodes\n",
      "299 300 301 302 303 304 305 306 307 308 309 310 311 312 313 314 315 316 317 318 319 320 321 322 323 324 325 326 327 328 329 330 331 332 333 334 335 336 337 338 339 340 341 342 343 344 345 346 347 348 349 350 351 352 353 354 355 356 357 358 359 360 361 362 363 364 365 366 367 368 369 370 371 372 373 374 375 376 377 378 379 380 381 382 383 384 385 386 387 388 389 390 391 392 393 394 395 396 397 398 399 400 401 402 403 404 405 406 407 408 409 410 411 412 413 414 415 2 3 4 5 6 7 8 9\n",
      "\n",
      "\n",
      "Index of MD-simulation frame 0\n",
      "Index of MD-simulation frame 1\n"
     ]
    }
   ],
   "source": [
    "for file in os.listdir('.'):\n",
    "    if fnmatch.fnmatch(file, file_string_pattern): \n",
    "        #Find the pdb and parse it\n",
    "        pdb_name = file\n",
    "        #print(pdb_name)\n",
    "        structure = parsePDB(str(pdb_name))\n",
    "        file_name_wh_ex = str(os.path.splitext(pdb_name)[0])\n",
    "        structure_beta = structure.select(atom_selection_string)\n",
    "        residues = structure_beta.getResnums()\n",
    "        residue_number = len(structure_beta)\n",
    "        conf_size = len(range(starting_frame, stopping_frame, stride))\n",
    "        #Initiate variables\n",
    "        BC_data_matrix = np.zeros((residue_number, conf_size))\n",
    "        comm_mat_btw_segment = np.zeros((max_community_size-1,conf_size))\n",
    "        community_all_data_matrix = np.zeros((residue_number, residue_number, conf_size, max_community_size-1))\n",
    "        rgb_matrix = np.zeros((residue_number, conf_size, 3))\n",
    "        #Parse the dcd file\n",
    "        for frame_interval in [[starting_frame,stopping_frame]]:\n",
    "            ensemble_cov_2 = parseDCD(str(file_name_wh_ex)+\".dcd\",\n",
    "                                      frame_interval[0],frame_interval[1],stride);\n",
    "            \n",
    "            #select the nodes from the protein structure\n",
    "            res_index = structure_beta.getResnums()\n",
    "            print(\"Here is the residue index of the nodes\")\n",
    "            print(' '.join(map(str, res_index)))\n",
    "            print(\"\\n\")\n",
    "            #bind the dcd and pdb files\n",
    "            ensemble_cov_2_mean = (ensemble_cov_2.getCoordsets()).mean(0)\n",
    "            ensemble_cov_2.setAtoms(structure_beta);\n",
    "            ensemble_cov_2.setCoords(ensemble_cov_2_mean);\n",
    "            #start the loop for the frames in dcd\n",
    "            for conformation_num in range(len(ensemble_cov_2)):\n",
    "                betas_gly_alphas = ensemble_cov_2[conformation_num].getAtoms()\n",
    "                betas_gly_alphas_coords = ensemble_cov_2[conformation_num].getCoords()\n",
    "                nodes = betas_gly_alphas\n",
    "                nodes_range = len(nodes)\n",
    "                nodes_list = nodes.getResnums()\n",
    "#                print(nodes_list)\n",
    "                print(\"Index of MD-simulation frame \"+str(conformation_num))\n",
    "    \n",
    "                #Contruct the network, please locate the cut-off value\n",
    "                ia_list = []\n",
    "                for i in range(nodes_range-1):\n",
    "                    for j in range(i+1, nodes_range):\n",
    "                        dist = calcDistance(betas_gly_alphas_coords[i], betas_gly_alphas_coords[j])\n",
    "                        if dist > 6.7:\n",
    "                            continue\n",
    "                        ia_list.append((nodes[i].getResnum(), nodes[j].getResnum()))\n",
    "    \n",
    "                protein_graph = nx.Graph()\n",
    "                protein_graph.add_nodes_from(nodes_list)\n",
    "                protein_graph.add_edges_from(ia_list)\n",
    "            ############################################\n",
    "                #### Calculate the node betweenness centrality\n",
    "                betwen_cent = nx.betweenness_centrality(protein_graph, normalized=True)\n",
    "                betwen_cent = np.asarray(list(betwen_cent.values()))\n",
    "                betwen_cent = betwen_cent.reshape((residue_number,1))\n",
    "                BC_data_matrix[:,conformation_num] = betwen_cent[:,0]\n",
    "    \n",
    "            ###########################################\n",
    "            ###Calculate Girwan-Newman communities\n",
    "                partition_girvan_newman = list(community.girvan_newman(protein_graph))\n",
    "                partition_girvan_newman = partition_girvan_newman[0:max_community_size-1]\n",
    "            ########## SEG by SEG community composition calculation\n",
    "                if segment_calculation is True:\n",
    "                    for i in range(max_community_size-1):\n",
    "                        for comm in partition_girvan_newman[i]:\n",
    "                            comm = list(comm)\n",
    "                            if ((any(list(item in segment_1 for item in comm)) and any(list(item in segment_2 for item in comm)))) == True:\n",
    "                                comm_mat_btw_segment[i,conformation_num] = 1\n",
    "                                \n",
    "            \n",
    "            ####### RES BY RES community composition calculation\n",
    "                if res_by_res_calculation is True:\n",
    "                    for i in range(residue_number):\n",
    "                        for j in range(residue_number):\n",
    "                            for level in partition_girvan_newman:\n",
    "                                for comm in level:\n",
    "                                    comm = list(comm)\n",
    "                                    if (residues[i] in comm) and (residues[j] in comm) == True:\n",
    "                                        community_all_data_matrix[i, j, conformation_num, partition_girvan_newman.index(level)] = 1\n",
    "            #### RGB scheme calculation                        \n",
    "                if rgb_scheme is True:\n",
    "                    for i in range(residue_number):\n",
    "                        for comm in partition_girvan_newman[rgb_community-2]:\n",
    "                            comm = list(comm)\n",
    "                            if (red in comm):\n",
    "                                is_in = np.isin(residues, comm)\n",
    "                                rgb_matrix[np.where(is_in)[0], conformation_num, 0] = 1\n",
    "                            if (green in comm):\n",
    "                                is_in = np.isin(residues, comm)\n",
    "                                rgb_matrix[np.where(is_in)[0], conformation_num, 1] = 1\n",
    "                            if (blue in comm):\n",
    "                                is_in = np.isin(residues, comm)\n",
    "                                rgb_matrix[np.where(is_in)[0], conformation_num, 2] = 1\n",
    "                                \n",
    "                                \n",
    "                                \n",
    "        ###Write output files\n",
    "        np.savetxt(file_name_wh_ex+\"_node_BC.dat\", \n",
    "                   np.transpose([np.mean(BC_data_matrix, axis=1), np.divide(np.std(BC_data_matrix, axis=1),\n",
    "                                                                            np.sqrt(conf_size-1))]))\n",
    "        if res_by_res_calculation is True:\n",
    "            for i in range(max_community_size-1):\n",
    "                np.savetxt(file_name_wh_ex+\"_community_\"+str(i+2)+\"_res_by_res_matrix.dat\",\n",
    "                           np.mean(community_all_data_matrix[:,:,:,i], axis=2), fmt='%1.2f')\n",
    "        if segment_calculation is True:\n",
    "            np.savetxt(file_name_wh_ex+\"_comm_btw_segments.dat\", comm_mat_btw_segment.T, fmt='%1d')\n",
    "        if rgb_scheme is True:\n",
    "            rgb_matrix = np.mean(rgb_matrix, axis=1)\n",
    "            np.savetxt(file_name_wh_ex+\"_rgb_data_matrix.dat\", rgb_matrix, fmt='%1.1f')\n",
    "            "
   ]
  },
  {
   "cell_type": "markdown",
   "metadata": {},
   "source": [
    "### Plot node BC by using the standard error as error bars"
   ]
  },
  {
   "cell_type": "code",
   "execution_count": 6,
   "metadata": {},
   "outputs": [
    {
     "data": {
      "image/png": "[encoded data removed]",
      "text/plain": [
       "<Figure size 648x360 with 1 Axes>"
      ]
     },
     "metadata": {
      "needs_background": "light"
     },
     "output_type": "display_data"
    }
   ],
   "source": [
    "import matplotlib.pyplot as plt\n",
    "from matplotlib import cm\n",
    "\n",
    "BC = np.loadtxt(file_name_wh_ex+\"_node_BC.dat\") #Load the data\n",
    "fig, ax = plt.subplots(figsize=(9,5))\n",
    "ax.set_ylabel('Node BC'); #set label names\n",
    "ax.set_xlabel('Node Index');\n",
    "plt.yticks(fontsize=12, fontname = \"Arial\")\n",
    "plt.xticks(fontsize=12, fontname = \"Arial\")\n",
    "plt.xticks(np.arange(0,residue_number,10), residues[0:-1:10])\n",
    "ax.errorbar(np.arange(residue_number), BC[:,0], BC[:,1], color='black', ecolor='black', marker= 'o'); # plot x, y and errors\n",
    "plt.show()\n",
    "plt.close()"
   ]
  },
  {
   "cell_type": "markdown",
   "metadata": {},
   "source": [
    "### Segment by segment co-occupancy fraction over the MD trajectory"
   ]
  },
  {
   "cell_type": "code",
   "execution_count": 7,
   "metadata": {},
   "outputs": [
    {
     "data": {
      "image/png": "[encoded data removed]",
      "text/plain": [
       "<Figure size 432x288 with 1 Axes>"
      ]
     },
     "metadata": {
      "needs_background": "light"
     },
     "output_type": "display_data"
    }
   ],
   "source": [
    "plt.title(file_name_wh_ex) #set the title\n",
    "\n",
    "plt.pcolormesh(np.loadtxt(file_name_wh_ex+\"_comm_btw_segments.dat\").T, edgecolors='k', linewidth=1, \n",
    "               cmap=cm.binary, vmin=0.00001) # load the data and plot\n",
    "ax = plt.gca()\n",
    "ax.set_aspect('equal')\n",
    "plt.xticks(np.arange(0.5, conf_size+0.5),np.arange(conf_size)) # set the ticks of x axis\n",
    "plt.yticks(np.arange(0.5, max_community_size-0.5),np.arange(max_community_size-1)+2 ) # set the ticks of y axis\n",
    "\n",
    "plt.yticks(fontsize=10, fontname = \"Arial\")\n",
    "plt.xticks(fontsize=10, fontname = \"Arial\")\n",
    "#plt.grid(color='black', linestyle='-', linewidth=1) # set the grid thickness\n",
    "ax.set_ylabel(r'$\\Omega$'); #set label names\n",
    "ax.set_xlabel('Timestamp of frames');\n",
    "#plt.savefig(file_name_wh_ex+\"_comm_btw_segments\", dpi=600, bbox_inches='tight') #comment in if you want to save the graph\n",
    "plt.show()\n",
    "plt.close()"
   ]
  },
  {
   "cell_type": "markdown",
   "metadata": {},
   "source": [
    "### Calculate the average community sharing between two segments for $\\Omega$ = 5"
   ]
  },
  {
   "cell_type": "code",
   "execution_count": 8,
   "metadata": {},
   "outputs": [
    {
     "name": "stdout",
     "output_type": "stream",
     "text": [
      "DHRF WT with DHF broken edges for omega = 5: 1.00 ± 0.00\n"
     ]
    }
   ],
   "source": [
    "#Load the data from the previous computation\n",
    "segment_btw_comm = np.loadtxt(file_name_wh_ex+\"_comm_btw_segments.dat\")\n",
    "#Here is the tricky one, rows indicate the frames of MD-trajectory, by putting ':', we take all of the frames into account.\n",
    "#For omega = 5, we write '3' to the column part, since indices start with '0' in python, the first column will have the information for omega = 2.\n",
    "#So by writing '3' to the column section, we do the calculation for omega = 5.\n",
    "mean = np.mean(segment_btw_comm[:,3])\n",
    "#There are 10 frames (now here is a variable), so for error we normalize std by sqare-root of the frame count\n",
    "std_err = np.std(segment_btw_comm[:,3])/np.sqrt(conf_size-1)\n",
    "#Let's print the output\n",
    "print('{}: {:.2f} ± {:.2f}'.format(\"DHRF WT with DHF broken edges for omega = 5\",mean, std_err))"
   ]
  },
  {
   "cell_type": "markdown",
   "metadata": {},
   "source": [
    "### Average residue by residue co-occupancy fraction"
   ]
  },
  {
   "cell_type": "code",
   "execution_count": 9,
   "metadata": {},
   "outputs": [
    {
     "data": {
      "image/png": "[encoded data removed]",
      "text/plain": [
       "<Figure size 432x288 with 2 Axes>"
      ]
     },
     "metadata": {
      "needs_background": "light"
     },
     "output_type": "display_data"
    }
   ],
   "source": [
    "full_mat_tot = np.loadtxt(file_name_wh_ex+\"_community_4_res_by_res_matrix.dat\") #let's load the data for omega=4\n",
    "plt.title(file_name_wh_ex) # set title\n",
    "plt.imshow(full_mat_tot, cmap=cm.binary, origin='lower', vmin=0, vmax=1) # plot the heatmap\n",
    "cbar = plt.colorbar() # Don't forget the colorbar\n",
    "ax = plt.gca()\n",
    "ax.set_aspect('equal')\n",
    "\n",
    "\n",
    "plt.yticks(np.arange(0,residue_number,10), residues[0:-1:10]) #Arrange the ticks\n",
    "plt.xticks(np.arange(0,residue_number,10), residues[0:-1:10])\n",
    "\n",
    "plt.yticks(fontsize=10, fontname = \"Arial\")\n",
    "plt.xticks(fontsize=10, fontname = \"Arial\", rotation=45)\n",
    "#plt.savefig(file_name_wh_ex+\"_community_4_res_by_res_matrix\", dpi=600, bbox_inches='tight') # comment in to save the plot\n",
    "plt.show()\n",
    "plt.close()\n",
    "        "
   ]
  },
  {
   "cell_type": "markdown",
   "metadata": {},
   "source": [
    "### Here we write the vmd file contains the RGB coloring information."
   ]
  },
  {
   "cell_type": "code",
   "execution_count": 10,
   "metadata": {},
   "outputs": [
    {
     "name": "stderr",
     "output_type": "stream",
     "text": [
      "C:\\Users\\tfguclu\\anaconda3\\lib\\site-packages\\ipykernel_launcher.py:4: RuntimeWarning: invalid value encountered in true_divide\n",
      "  after removing the cwd from sys.path.\n"
     ]
    }
   ],
   "source": [
    "full_mat_tot = np.loadtxt(file_name_wh_ex+\"_rgb_data_matrix.dat\")\n",
    "full_mat_tot = np.round(full_mat_tot, decimals=1)\n",
    "full_mat_tot_row_sums = np.sum(full_mat_tot, axis=1)\n",
    "full_mat_tot = full_mat_tot/full_mat_tot_row_sums[:, np.newaxis];\n",
    "full_mat_tot[np.isnan(full_mat_tot)] = 0\n",
    "full_mat_tot = np.round(full_mat_tot, decimals=1)\n",
    "full_mat_tot_uniq = np.unique(full_mat_tot, axis=0)\n",
    "\n",
    "coloria = red+blue+green\n",
    "\n",
    "f = open(file_name_wh_ex+\"_color.vmd\", 'w')\n",
    "f.write(\"\"\"\n",
    "display projection Orthographic\n",
    "color change rgb  32 1 1 1 \n",
    "color Display Background 32\n",
    "axes location Off\n",
    "display depthcue off\n",
    "color scale method RGB\n",
    "\\n\n",
    "\"\"\")\n",
    "f.write(\"mol new {}.pdb\\n\".format(str(file_name_wh_ex)))\n",
    "f.write(\"mol modstyle 0 0 NewCartoon {0.300000 50.000000 4.100000 0}\\n\")\n",
    "\n",
    "for i in range(len(full_mat_tot_uniq)):\n",
    "    f.write(\"color change rgb  {:d} {:03.1f} {:03.1f} {:03.1f}\\n\".format(i, full_mat_tot_uniq[i][0], full_mat_tot_uniq[i][1], full_mat_tot_uniq[i][2]))\n",
    "    f.write(\"mol addrep 0\\n\")\n",
    "    f.write(\"mol modselect {:d} 0 resid {}\\n\".format(i+1,' '.join(map(str, residues[np.where(np.all(full_mat_tot==full_mat_tot_uniq[i], axis=1))[0]]))))\n",
    "    f.write(\"mol modstyle {:d} 0 NewCartoon {{0.300000 50.000000 4.100000 0}}\\n\".format(i+1))\n",
    "    f.write(\"mol modcolor {:d} 0 ColorID {:d}\\n\".format(i+1,i))\n",
    "    \n",
    "\n",
    "f.write(\"mol addrep 0\\n\")\n",
    "f.write(\"mol modselect {:d} 0 resid {} and name CA\\n\".format(int(len(full_mat_tot_uniq)+1), red[0]))\n",
    "f.write(\"mol modstyle {:d} 0 CPK {{6.000000 0.300000 40.000000 40.000000}}\\n\".format(int(len(full_mat_tot_uniq)+1)))\n",
    "f.write(\"mol modcolor {:d} 0 ColorID {:d}\\n\".format(int(len(full_mat_tot_uniq)+1),np.where(np.all(full_mat_tot_uniq == full_mat_tot[np.where(residues == red[0])], axis=1))[0][0]))\n",
    "\n",
    "f.write(\"mol addrep 0\\n\")\n",
    "f.write(\"mol modselect {:d} 0 resid {} and name CA\\n\".format(int(len(full_mat_tot_uniq)+2), blue[0]))\n",
    "f.write(\"mol modstyle {:d} 0 CPK {{6.000000 0.300000 40.000000 40.000000}}\\n\".format(int(len(full_mat_tot_uniq)+2)))\n",
    "f.write(\"mol modcolor {:d} 0 ColorID {:d}\\n\".format(int(len(full_mat_tot_uniq)+2),np.where(np.all(full_mat_tot_uniq == full_mat_tot[np.where(residues == blue[0])], axis=1))[0][0]))\n",
    "\n",
    "f.write(\"mol addrep 0\\n\")\n",
    "f.write(\"mol modselect {:d} 0 resid {} and name CA\\n\".format(int(len(full_mat_tot_uniq)+3), green[0]))\n",
    "f.write(\"mol modstyle {:d} 0 CPK {{6.000000 0.300000 40.000000 40.000000}}\\n\".format(int(len(full_mat_tot_uniq)+3)))\n",
    "f.write(\"mol modcolor {:d} 0 ColorID {:d}\\n\".format(int(len(full_mat_tot_uniq)+3),np.where(np.all(full_mat_tot_uniq == full_mat_tot[np.where(residues == green[0])], axis=1))[0][0]))\n",
    "\n",
    "f.close()\n",
    "\n"
   ]
  },
  {
   "cell_type": "code",
   "execution_count": null,
   "metadata": {},
   "outputs": [],
   "source": []
  }
 ],
 "metadata": {
  "kernelspec": {
   "display_name": "Python 3",
   "language": "python",
   "name": "python3"
  },
  "language_info": {
   "codemirror_mode": {
    "name": "ipython",
    "version": 3
   },
   "file_extension": ".py",
   "mimetype": "text/x-python",
   "name": "python",
   "nbconvert_exporter": "python",
   "pygments_lexer": "ipython3",
   "version": "3.7.9"
  }
 },
 "nbformat": 4,
 "nbformat_minor": 4
}
